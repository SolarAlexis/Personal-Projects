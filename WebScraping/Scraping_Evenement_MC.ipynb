{
 "cells": [
  {
   "cell_type": "code",
   "execution_count": null,
   "metadata": {},
   "outputs": [],
   "source": [
    "# Ce Projet consiste à récupérer de façon automatique les données sur le site https://citedelinfini.fr/teams\n",
    "# et à en faire différents graphiques en rapport avec l'évenement"
   ]
  },
  {
   "cell_type": "code",
   "execution_count": 1,
   "metadata": {},
   "outputs": [],
   "source": [
    "import requests\n",
    "from bs4 import BeautifulSoup\n",
    "import matplotlib.pyplot as plt\n",
    "from datetime import datetime\n",
    "import math\n",
    "\n",
    "heure = datetime.now().strftime('[%d/%m/%Y %H:%M]')"
   ]
  },
  {
   "cell_type": "code",
   "execution_count": 2,
   "metadata": {},
   "outputs": [],
   "source": [
    "# définition des fonctions"
   ]
  },
  {
   "cell_type": "code",
   "execution_count": 3,
   "metadata": {},
   "outputs": [],
   "source": [
    "def f_url(n):\n",
    "    res = ['https://citedelinfini.fr/teams']\n",
    "    for i in range(2,n+1):\n",
    "        res.append('https://citedelinfini.fr/teams?page=%s' % (i))\n",
    "    return res"
   ]
  },
  {
   "cell_type": "code",
   "execution_count": 4,
   "metadata": {},
   "outputs": [],
   "source": [
    "def data(url):\n",
    "    # récuperer tous les tds\n",
    "    TD = []\n",
    "    for site in url:\n",
    "        reponse = requests.get(site)\n",
    "        \n",
    "        tds = []\n",
    "        \n",
    "        if reponse.ok:\n",
    "            soup = BeautifulSoup(reponse.text)\n",
    "            tds = soup.findAll('td')\n",
    "        \n",
    "        TD = TD + tds\n",
    "    \n",
    "    return TD"
   ]
  },
  {
   "cell_type": "code",
   "execution_count": 5,
   "metadata": {},
   "outputs": [],
   "source": [
    "def tag(donnée):\n",
    "    # récupérer les tags\n",
    "    \n",
    "    tag1 = []\n",
    "    for i in range(len(donnée)//4):\n",
    "        tag1.append(str(donnée[4*i]))\n",
    "    \n",
    "    tag2 = []\n",
    "    for TAG in tag1:\n",
    "        temp = TAG\n",
    "        temp = temp.split('<')[1]\n",
    "        temp = temp.split('>')[1]\n",
    "        tag2.append(temp)\n",
    "    \n",
    "    return tag2"
   ]
  },
  {
   "cell_type": "code",
   "execution_count": 6,
   "metadata": {},
   "outputs": [],
   "source": [
    "def équipe(donnée):\n",
    "    #  récupérer les noms d'équipe\n",
    "    \n",
    "    noms1 = []\n",
    "    for i in range(len(donnée)//4):\n",
    "        noms1.append(str(donnée[4*i + 1]))\n",
    "    \n",
    "    noms2 = []\n",
    "    for team in noms1:\n",
    "        temp = team\n",
    "        temp = temp.split('<')[1]\n",
    "        temp = temp.split('>')[1]\n",
    "        noms2.append(temp)\n",
    "    \n",
    "    noms3 = []\n",
    "    for i in range(len(noms2)):\n",
    "        noms3.append(noms2[i].capitalize())\n",
    "    \n",
    "    noms3 = sorted(noms3)\n",
    "    \n",
    "    return noms3"
   ]
  },
  {
   "cell_type": "code",
   "execution_count": 7,
   "metadata": {},
   "outputs": [],
   "source": [
    "def pseudo(donnée):\n",
    "    # récupérer les pseudos\n",
    "    \n",
    "    pseudo1 = []\n",
    "    for i in range(len(donnée)//4):\n",
    "        pseudo1.append(str(donnée[4*i+2]))\n",
    "        \n",
    "    pseudo2 = []\n",
    "    for team in pseudo1:\n",
    "        temp = str(team).split('<img alt=\"')\n",
    "        for ppl in temp[1::]:\n",
    "            i=0\n",
    "            while ppl[i] != '\"':\n",
    "                i = i+1\n",
    "            pseudo2.append(ppl[:i:])\n",
    "            \n",
    "    return pseudo2"
   ]
  },
  {
   "cell_type": "code",
   "execution_count": 8,
   "metadata": {},
   "outputs": [],
   "source": [
    "def compte(donnée):\n",
    "    # récupérer le nombre de joueur par team\n",
    "    \n",
    "    compte1 = []\n",
    "    for i in range(len(donnée)//4):\n",
    "        compte1.append(str(donnée[4*i+2]))\n",
    "        \n",
    "    compte2 = []\n",
    "    for i in range(len(compte1)):\n",
    "        compte2.append(len(compte1[i].split('<div aria-label=')) - 1)\n",
    "        \n",
    "    return compte2"
   ]
  },
  {
   "cell_type": "code",
   "execution_count": 9,
   "metadata": {},
   "outputs": [],
   "source": [
    "def message(comptes,temps):\n",
    "    # écrire le message à envoyer\n",
    "    \n",
    "    p = '%'\n",
    "    total = []\n",
    "    for i in range(1,9):\n",
    "        total.append(comptes.count(i))\n",
    "        \n",
    "    temp = math.floor(sum(comptes) - total[7]*8)\n",
    "    \n",
    "    print('%s \\n' % (heure))\n",
    "    print('il y a %s inscrits en %s équipes \\n' % (sum(comptes), len(comptes)) )\n",
    "    for i in range(1,9):\n",
    "        if i == 8:\n",
    "            print('Equipe à %s joueurs : %s \\n' % (i , total[i-1]))\n",
    "        else:\n",
    "            print('Equipe à %s joueurs : %s' % (i , total[i-1]))\n",
    "    print('Probabilité de participation : %s %s \\n' % (111/total[-1]*100, p))\n",
    "    print(\"Il y a %s personnes inscrites dans une équipe incomplète\" % (temp))\n",
    "    print(\"Soit potentiellement %s équipes supplémentaires\" % (math.floor(temp/8)))"
   ]
  },
  {
   "cell_type": "code",
   "execution_count": 10,
   "metadata": {},
   "outputs": [],
   "source": [
    "def actualisation(comptes, pseudos, équipes, tags):\n",
    "    # actualiser les données dans les fichiers texte\n",
    "    \n",
    "    # les équipes\n",
    "    fichier1 = \"D:\\équipes.txt\"\n",
    "    f = open(fichier1,\"w\")\n",
    "    for i in range(len(équipes)):\n",
    "        f.write(équipes[i])\n",
    "        f.write('\\n')\n",
    "    f.close()\n",
    "    \n",
    "    # Les comptes\n",
    "    fichier2 = \"D:\\data.txt\"\n",
    "    f = open(fichier2,\"w\")\n",
    "    for i in range(len(comptes)):\n",
    "        f.write(str(comptes[i]))\n",
    "        f.write('\\n')\n",
    "    f.close()\n",
    "    \n",
    "    # les pseudos\n",
    "    fichier3 = \"D:\\pseudo.txt\"\n",
    "    f = open(fichier3,\"w\")\n",
    "    for i in range(len(pseudos)):\n",
    "        f.write(pseudos[i])\n",
    "        f.write('\\n')\n",
    "    f.close()\n",
    "    \n",
    "    # les tags\n",
    "    fichier4 = \"D:\\\\tags.txt\"\n",
    "    f = open(fichier4,\"w\")\n",
    "    for i in range(len(tags)):\n",
    "        f.write(tags[i])\n",
    "        f.write('\\n')\n",
    "    f.close()\n",
    "    \n",
    "    # graphe 1\n",
    "    fichier5 = \"D:\\graphe1.txt\"\n",
    "    f = open(fichier5,\"a\")\n",
    "    f.write('%s %s' % (comptes.count(8) , heure))\n",
    "    f.write('\\n')\n",
    "    f.close()"
   ]
  },
  {
   "cell_type": "code",
   "execution_count": 11,
   "metadata": {},
   "outputs": [],
   "source": [
    "def répartition(comptes):\n",
    "    plt.bar([i for i in range(1,9)] , [comptes.count(i) for i in range(1,9)])\n",
    "    plt.title('répartition des inscriptions')"
   ]
  },
  {
   "cell_type": "code",
   "execution_count": 25,
   "metadata": {},
   "outputs": [],
   "source": [
    "def minute(date):\n",
    "    res = 0\n",
    "    if int(date[8:10]) >= 6:\n",
    "        res = res + 31*1440\n",
    "    if int(date[8:10]) == 7:\n",
    "        res = res + 30*1440\n",
    "    res = res + int(date[5:7]) * 1440 + int(date[16:18]) * 60 + int(date[19:21])\n",
    "    return res"
   ]
  },
  {
   "cell_type": "code",
   "execution_count": 23,
   "metadata": {},
   "outputs": [],
   "source": [
    "def graphe1():\n",
    "    with open(\"D:\\graphe1.txt\", \"r\") as tf:\n",
    "        lines = tf.read().split('\\n')\n",
    "    lines = lines[:-1:]\n",
    "\n",
    "    y = []\n",
    "    x = []\n",
    "    for line in lines:\n",
    "        y.append(int(line[0:3]))\n",
    "        x.append(minute(line))\n",
    "\n",
    "    plt.plot(x,y)\n",
    "    temp1 = len(x) // 2\n",
    "    plt.xticks([x[0],54720,66240,77760,89300] , [lines[0][5:10],'07/06','15/06','23/06','01/07'])\n",
    "    plt.yticks([0,100,200,300,400,500,600,700,800])\n",
    "    plt.title(\"nombre d'équipe complète\")"
   ]
  },
  {
   "cell_type": "code",
   "execution_count": 14,
   "metadata": {},
   "outputs": [],
   "source": [
    "# application"
   ]
  },
  {
   "cell_type": "code",
   "execution_count": 15,
   "metadata": {},
   "outputs": [],
   "source": [
    "data = data(f_url(60))"
   ]
  },
  {
   "cell_type": "code",
   "execution_count": 16,
   "metadata": {},
   "outputs": [],
   "source": [
    "actualisation(compte(data),pseudo(data),équipe(data),tag(data))"
   ]
  },
  {
   "cell_type": "code",
   "execution_count": 17,
   "metadata": {},
   "outputs": [
    {
     "name": "stdout",
     "output_type": "stream",
     "text": [
      "[01/07/2022 00:02] \n",
      "\n",
      "il y a 8349 inscrits en 1476 équipes \n",
      "\n",
      "Equipe à 1 joueurs : 254\n",
      "Equipe à 2 joueurs : 133\n",
      "Equipe à 3 joueurs : 79\n",
      "Equipe à 4 joueurs : 64\n",
      "Equipe à 5 joueurs : 50\n",
      "Equipe à 6 joueurs : 28\n",
      "Equipe à 7 joueurs : 26\n",
      "Equipe à 8 joueurs : 842 \n",
      "\n",
      "Probabilité de participation : 13.182897862232778 % \n",
      "\n",
      "Il y a 1613 personnes inscrites dans une équipe incomplète\n",
      "Soit potentiellement 201 équipes supplémentaires\n"
     ]
    }
   ],
   "source": [
    "message(compte(data),heure)"
   ]
  },
  {
   "cell_type": "code",
   "execution_count": 18,
   "metadata": {},
   "outputs": [
    {
     "data": {
      "image/png": "[encoded data removed]",
      "text/plain": [
       "<Figure size 432x288 with 1 Axes>"
      ]
     },
     "metadata": {
      "needs_background": "light"
     },
     "output_type": "display_data"
    }
   ],
   "source": [
    "répartition(compte(data))"
   ]
  },
  {
   "cell_type": "code",
   "execution_count": 26,
   "metadata": {},
   "outputs": [
    {
     "data": {
      "image/png": "[encoded data removed]",
      "text/plain": [
       "<Figure size 432x288 with 1 Axes>"
      ]
     },
     "metadata": {
      "needs_background": "light"
     },
     "output_type": "display_data"
    }
   ],
   "source": [
    "graphe1()"
   ]
  },
  {
   "cell_type": "code",
   "execution_count": null,
   "metadata": {},
   "outputs": [],
   "source": []
  },
  {
   "cell_type": "code",
   "execution_count": null,
   "metadata": {},
   "outputs": [],
   "source": []
  }
 ],
 "metadata": {
  "kernelspec": {
   "display_name": "Python 3",
   "language": "python",
   "name": "python3"
  },
  "language_info": {
   "codemirror_mode": {
    "name": "ipython",
    "version": 3
   },
   "file_extension": ".py",
   "mimetype": "text/x-python",
   "name": "python",
   "nbconvert_exporter": "python",
   "pygments_lexer": "ipython3",
   "version": "3.8.5"
  }
 },
 "nbformat": 4,
 "nbformat_minor": 4
}
