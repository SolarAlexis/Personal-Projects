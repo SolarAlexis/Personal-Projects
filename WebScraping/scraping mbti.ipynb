{
 "cells": [
  {
   "cell_type": "code",
   "execution_count": 30,
   "id": "292866f1",
   "metadata": {},
   "outputs": [],
   "source": [
    "# récupération des données\n",
    "import requests\n",
    "from bs4 import BeautifulSoup"
   ]
  },
  {
   "cell_type": "code",
   "execution_count": 31,
   "id": "fee13e91",
   "metadata": {},
   "outputs": [],
   "source": [
    "# définition des fonctions"
   ]
  },
  {
   "cell_type": "code",
   "execution_count": 1,
   "id": "f7973b4d",
   "metadata": {},
   "outputs": [],
   "source": [
    "# obtenir la liste des 176 pages\n",
    "def f_url(n):\n",
    "    res = ['https://www.sosyncd.com/database/']\n",
    "    for i in range(2,n+1):\n",
    "        res.append('https://www.sosyncd.com/database/page/%s/' % (i))\n",
    "    return res"
   ]
  },
  {
   "cell_type": "code",
   "execution_count": 33,
   "id": "158cf836",
   "metadata": {},
   "outputs": [],
   "source": [
    "# récupérer toutes les données brutes\n",
    "def data(url):\n",
    "    TD = []\n",
    "    for site in url:\n",
    "        reponse = requests.get(site)\n",
    "        \n",
    "        tds = []\n",
    "        \n",
    "        if reponse.ok:\n",
    "            soup = BeautifulSoup(reponse.text)\n",
    "            tds = soup.findAll('article')\n",
    "        \n",
    "        TD = TD + tds\n",
    "    \n",
    "    return TD"
   ]
  },
  {
   "cell_type": "code",
   "execution_count": 34,
   "id": "4715801f",
   "metadata": {},
   "outputs": [],
   "source": [
    "# récupérer les données triées\n",
    "def trier(data):\n",
    "    l = len(data)\n",
    "    \n",
    "    #récupérer les noms\n",
    "    listNoms = []\n",
    "    for i in range(l):\n",
    "        temp = str(data[i]).split('<div class=\"personality-table__name\"><strong>')[1]\n",
    "        listNoms.append(temp.split('</strong></div> <div class=\"personality-table__divide\">')[0])\n",
    "    \n",
    "    #récupérer les personnalités\n",
    "    listPers = []\n",
    "    for i in range(l):\n",
    "        temp = str(data[i]).split('<span class=\"personality-table__type\">')[1]\n",
    "        listPers.append(temp.split('</span>')[0])\n",
    "    \n",
    "    #récupérer les informations supplémentaires\n",
    "    listInfo = []\n",
    "    for i in range(l):\n",
    "        temp = str(data[i]).split('<li class=\"personality-table__li\"')[4]\n",
    "        temp = temp.split('<strong>')[1].split('</strong>')\n",
    "        listInfo.append(temp[0] + temp[1].split('</li>')[0])\n",
    "\n",
    "    return listNoms, listPers, listInfo"
   ]
  },
  {
   "cell_type": "code",
   "execution_count": 35,
   "id": "2193a379",
   "metadata": {},
   "outputs": [],
   "source": [
    "# sortir les listes triées par personnalité\n",
    "def listing(Noms, Pers, Info, Pers_tri):\n",
    "    l = len(Noms)\n",
    "    res = []\n",
    "    \n",
    "    for i in range(l):\n",
    "        if Pers[i] == Pers_tri:\n",
    "            str_temp = Noms[i] + ' / ' + Info[i]\n",
    "            res.append(str_temp)\n",
    "    \n",
    "    return res"
   ]
  },
  {
   "cell_type": "code",
   "execution_count": 36,
   "id": "0f0ba470",
   "metadata": {},
   "outputs": [],
   "source": [
    "# mettre les listes dans des fichiers textes\n",
    "def fichier_txt(liste, Pers_tri):\n",
    "    fichier = \"D:\\Personal Projects\\WebScraping\\%s.txt\" % (Pers_tri)\n",
    "    f = open(fichier, \"w\", encoding=\"utf-8\")\n",
    "    for element in liste:\n",
    "        f.write(element)\n",
    "        f.write('\\n')\n",
    "    f.close()"
   ]
  },
  {
   "cell_type": "code",
   "execution_count": 37,
   "id": "9a579b0f",
   "metadata": {},
   "outputs": [],
   "source": [
    "# mise en pratique"
   ]
  },
  {
   "cell_type": "code",
   "execution_count": 38,
   "id": "16c4d2be",
   "metadata": {},
   "outputs": [],
   "source": [
    "url = f_url(176)\n",
    "données = data(url)"
   ]
  },
  {
   "cell_type": "code",
   "execution_count": 39,
   "id": "7c54f2d5",
   "metadata": {},
   "outputs": [],
   "source": [
    "Noms, Pers, Info = trier(données)"
   ]
  },
  {
   "cell_type": "code",
   "execution_count": 40,
   "id": "b912391d",
   "metadata": {},
   "outputs": [],
   "source": [
    "Liste_personnalités = ['INTJ', 'INTP', 'ENTJ', 'ENTP', 'INFJ', 'INFP', 'ENFJ', 'ENFP', 'ISTJ', 'ISFJ', 'ESTJ', 'ESFJ',\n",
    "                       'ISTP', 'ISFP', 'ESTP', 'ESFP']"
   ]
  },
  {
   "cell_type": "code",
   "execution_count": 41,
   "id": "d3b43529",
   "metadata": {},
   "outputs": [],
   "source": [
    "List_temp = []\n",
    "for personnalité in Liste_personnalités:\n",
    "    List_temp.append(listing(Noms, Pers, Info, personnalité))"
   ]
  },
  {
   "cell_type": "code",
   "execution_count": 42,
   "id": "00bc9abb",
   "metadata": {},
   "outputs": [],
   "source": [
    "for i in range(len(List_temp)):\n",
    "    temp = []\n",
    "    for element in List_temp[i]:\n",
    "        if element not in temp:\n",
    "            temp.append(element)\n",
    "    List_temp[i] = temp"
   ]
  },
  {
   "cell_type": "code",
   "execution_count": 43,
   "id": "de45400c",
   "metadata": {},
   "outputs": [],
   "source": [
    "for i in range(len(Liste_personnalités)):\n",
    "    personnalité = Liste_personnalités[i]\n",
    "    fichier_txt(List_temp[i], personnalité)"
   ]
  },
  {
   "cell_type": "code",
   "execution_count": null,
   "id": "d7178600",
   "metadata": {},
   "outputs": [],
   "source": []
  }
 ],
 "metadata": {
  "kernelspec": {
   "display_name": "Python 3 (ipykernel)",
   "language": "python",
   "name": "python3"
  },
  "language_info": {
   "codemirror_mode": {
    "name": "ipython",
    "version": 3
   },
   "file_extension": ".py",
   "mimetype": "text/x-python",
   "name": "python",
   "nbconvert_exporter": "python",
   "pygments_lexer": "ipython3",
   "version": "3.10.9"
  }
 },
 "nbformat": 4,
 "nbformat_minor": 5
}
