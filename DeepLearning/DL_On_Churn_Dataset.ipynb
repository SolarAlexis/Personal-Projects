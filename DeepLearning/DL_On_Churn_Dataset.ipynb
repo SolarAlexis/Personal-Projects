{
 "cells": [
  {
   "cell_type": "code",
   "execution_count": 1,
   "metadata": {},
   "outputs": [],
   "source": [
    "# Le projet provient de la video youtube https://youtu.be/6_2hzRopPbQ?si=5pTSHmeQq9TjJvWP \n",
    "# créée par Nicholas Renotte\n",
    "# lien du dataset: https://github.com/nicknochnack/Tensorflow-in-10-Minutes/blob/main/Churn.csv "
   ]
  },
  {
   "cell_type": "markdown",
   "metadata": {},
   "source": [
    "# 0. Import Data"
   ]
  },
  {
   "cell_type": "code",
   "execution_count": 1,
   "metadata": {},
   "outputs": [],
   "source": [
    "import pandas as pd\n",
    "from sklearn.model_selection import train_test_split"
   ]
  },
  {
   "cell_type": "code",
   "execution_count": 2,
   "metadata": {},
   "outputs": [],
   "source": [
    "df = pd.read_csv('Churn.csv')"
   ]
  },
  {
   "cell_type": "code",
   "execution_count": 3,
   "metadata": {},
   "outputs": [],
   "source": [
    "X = pd.get_dummies(df.drop(['Churn', 'Customer ID'], axis=1))\n",
    "y = df['Churn'].apply(lambda x: 1 if x=='Yes' else 0)"
   ]
  },
  {
   "cell_type": "code",
   "execution_count": 4,
   "metadata": {},
   "outputs": [],
   "source": [
    "X_train, X_test, y_train, y_test = train_test_split(X, y, test_size=.2)"
   ]
  },
  {
   "cell_type": "code",
   "execution_count": 6,
   "metadata": {},
   "outputs": [
    {
     "data": {
      "text/plain": [
       "231     0\n",
       "2648    0\n",
       "3881    0\n",
       "1836    0\n",
       "3283    0\n",
       "Name: Churn, dtype: int64"
      ]
     },
     "execution_count": 6,
     "metadata": {},
     "output_type": "execute_result"
    }
   ],
   "source": [
    "y_train.head()"
   ]
  },
  {
   "cell_type": "markdown",
   "metadata": {},
   "source": [
    "# 1. Import Dependencies"
   ]
  },
  {
   "cell_type": "code",
   "execution_count": 7,
   "metadata": {},
   "outputs": [],
   "source": [
    "from tensorflow.keras.models import Sequential, load_model\n",
    "from tensorflow.keras.layers import Dense\n",
    "from sklearn.metrics import accuracy_score"
   ]
  },
  {
   "cell_type": "markdown",
   "metadata": {},
   "source": [
    "# 2. Build and Compile Model"
   ]
  },
  {
   "cell_type": "code",
   "execution_count": 8,
   "metadata": {},
   "outputs": [],
   "source": [
    "model = Sequential()\n",
    "model.add(Dense(units=32, activation='relu', input_dim=len(X_train.columns)))\n",
    "model.add(Dense(units=64, activation='relu'))\n",
    "model.add(Dense(units=1, activation='sigmoid'))"
   ]
  },
  {
   "cell_type": "code",
   "execution_count": 9,
   "metadata": {},
   "outputs": [],
   "source": [
    "model.compile(loss='binary_crossentropy', optimizer='sgd', metrics='accuracy')"
   ]
  },
  {
   "cell_type": "markdown",
   "metadata": {},
   "source": [
    "# 3. Fit, Predict and Evaluate"
   ]
  },
  {
   "cell_type": "code",
   "execution_count": 16,
   "metadata": {
    "collapsed": true
   },
   "outputs": [
    {
     "name": "stdout",
     "output_type": "stream",
     "text": [
      "Epoch 1/200\n",
      "177/177 [==============================] - 1s 2ms/step - loss: 0.4222 - accuracy: 0.8007\n",
      "Epoch 2/200\n",
      "177/177 [==============================] - 0s 2ms/step - loss: 0.4153 - accuracy: 0.8009\n",
      "Epoch 3/200\n",
      "177/177 [==============================] - 0s 2ms/step - loss: 0.4173 - accuracy: 0.8030\n",
      "Epoch 4/200\n",
      "177/177 [==============================] - 0s 2ms/step - loss: 0.4148 - accuracy: 0.8060\n",
      "Epoch 5/200\n",
      "177/177 [==============================] - 0s 2ms/step - loss: 0.4183 - accuracy: 0.7996\n",
      "Epoch 6/200\n",
      "177/177 [==============================] - 0s 2ms/step - loss: 0.4166 - accuracy: 0.8067\n",
      "Epoch 7/200\n",
      "177/177 [==============================] - 0s 2ms/step - loss: 0.4146 - accuracy: 0.8041\n",
      "Epoch 8/200\n",
      "177/177 [==============================] - 0s 2ms/step - loss: 0.4174 - accuracy: 0.8028\n",
      "Epoch 9/200\n",
      "177/177 [==============================] - 0s 2ms/step - loss: 0.4201 - accuracy: 0.8037\n",
      "Epoch 10/200\n",
      "177/177 [==============================] - 0s 2ms/step - loss: 0.4175 - accuracy: 0.8002\n",
      "Epoch 11/200\n",
      "177/177 [==============================] - 0s 2ms/step - loss: 0.4149 - accuracy: 0.8092\n",
      "Epoch 12/200\n",
      "177/177 [==============================] - 0s 2ms/step - loss: 0.4148 - accuracy: 0.8032\n",
      "Epoch 13/200\n",
      "177/177 [==============================] - 0s 2ms/step - loss: 0.4174 - accuracy: 0.8041\n",
      "Epoch 14/200\n",
      "177/177 [==============================] - 0s 2ms/step - loss: 0.4166 - accuracy: 0.8051\n",
      "Epoch 15/200\n",
      "177/177 [==============================] - 0s 2ms/step - loss: 0.4171 - accuracy: 0.8025\n",
      "Epoch 16/200\n",
      "177/177 [==============================] - 0s 2ms/step - loss: 0.4169 - accuracy: 0.8059\n",
      "Epoch 17/200\n",
      "177/177 [==============================] - 0s 3ms/step - loss: 0.4148 - accuracy: 0.8078\n",
      "Epoch 18/200\n",
      "177/177 [==============================] - 0s 2ms/step - loss: 0.4169 - accuracy: 0.8048\n",
      "Epoch 19/200\n",
      "177/177 [==============================] - 0s 2ms/step - loss: 0.4141 - accuracy: 0.8021\n",
      "Epoch 20/200\n",
      "177/177 [==============================] - 0s 2ms/step - loss: 0.4183 - accuracy: 0.8027\n",
      "Epoch 21/200\n",
      "177/177 [==============================] - 0s 2ms/step - loss: 0.4166 - accuracy: 0.8037\n",
      "Epoch 22/200\n",
      "177/177 [==============================] - 0s 2ms/step - loss: 0.4159 - accuracy: 0.8023\n",
      "Epoch 23/200\n",
      "177/177 [==============================] - 0s 2ms/step - loss: 0.4134 - accuracy: 0.8078\n",
      "Epoch 24/200\n",
      "177/177 [==============================] - 0s 2ms/step - loss: 0.4153 - accuracy: 0.8059\n",
      "Epoch 25/200\n",
      "177/177 [==============================] - 0s 2ms/step - loss: 0.4145 - accuracy: 0.8076\n",
      "Epoch 26/200\n",
      "177/177 [==============================] - 0s 2ms/step - loss: 0.4167 - accuracy: 0.8060\n",
      "Epoch 27/200\n",
      "177/177 [==============================] - 0s 2ms/step - loss: 0.4163 - accuracy: 0.8060\n",
      "Epoch 28/200\n",
      "177/177 [==============================] - 0s 2ms/step - loss: 0.4135 - accuracy: 0.8041\n",
      "Epoch 29/200\n",
      "177/177 [==============================] - 0s 2ms/step - loss: 0.4148 - accuracy: 0.8021\n",
      "Epoch 30/200\n",
      "177/177 [==============================] - 0s 2ms/step - loss: 0.4158 - accuracy: 0.8012\n",
      "Epoch 31/200\n",
      "177/177 [==============================] - 0s 2ms/step - loss: 0.4169 - accuracy: 0.8034\n",
      "Epoch 32/200\n",
      "177/177 [==============================] - 0s 2ms/step - loss: 0.4130 - accuracy: 0.8035\n",
      "Epoch 33/200\n",
      "177/177 [==============================] - 0s 2ms/step - loss: 0.4150 - accuracy: 0.8030\n",
      "Epoch 34/200\n",
      "177/177 [==============================] - 0s 2ms/step - loss: 0.4183 - accuracy: 0.8014\n",
      "Epoch 35/200\n",
      "177/177 [==============================] - 0s 2ms/step - loss: 0.4137 - accuracy: 0.8009\n",
      "Epoch 36/200\n",
      "177/177 [==============================] - 0s 2ms/step - loss: 0.4143 - accuracy: 0.8064\n",
      "Epoch 37/200\n",
      "177/177 [==============================] - 0s 2ms/step - loss: 0.4162 - accuracy: 0.8014\n",
      "Epoch 38/200\n",
      "177/177 [==============================] - 0s 2ms/step - loss: 0.4133 - accuracy: 0.8066\n",
      "Epoch 39/200\n",
      "177/177 [==============================] - 0s 2ms/step - loss: 0.4170 - accuracy: 0.8037\n",
      "Epoch 40/200\n",
      "177/177 [==============================] - 0s 2ms/step - loss: 0.4129 - accuracy: 0.8043\n",
      "Epoch 41/200\n",
      "177/177 [==============================] - 0s 2ms/step - loss: 0.4146 - accuracy: 0.7993\n",
      "Epoch 42/200\n",
      "177/177 [==============================] - 0s 2ms/step - loss: 0.4222 - accuracy: 0.7977\n",
      "Epoch 43/200\n",
      "177/177 [==============================] - 0s 2ms/step - loss: 0.4160 - accuracy: 0.8064\n",
      "Epoch 44/200\n",
      "177/177 [==============================] - 0s 2ms/step - loss: 0.4167 - accuracy: 0.7988\n",
      "Epoch 45/200\n",
      "177/177 [==============================] - 0s 2ms/step - loss: 0.4156 - accuracy: 0.8060\n",
      "Epoch 46/200\n",
      "177/177 [==============================] - 0s 2ms/step - loss: 0.4145 - accuracy: 0.8032\n",
      "Epoch 47/200\n",
      "177/177 [==============================] - 0s 2ms/step - loss: 0.4149 - accuracy: 0.8050\n",
      "Epoch 48/200\n",
      "177/177 [==============================] - 0s 2ms/step - loss: 0.4152 - accuracy: 0.8067\n",
      "Epoch 49/200\n",
      "177/177 [==============================] - 0s 2ms/step - loss: 0.4168 - accuracy: 0.8009\n",
      "Epoch 50/200\n",
      "177/177 [==============================] - 0s 2ms/step - loss: 0.4154 - accuracy: 0.8067\n",
      "Epoch 51/200\n",
      "177/177 [==============================] - 0s 2ms/step - loss: 0.4125 - accuracy: 0.8067\n",
      "Epoch 52/200\n",
      "177/177 [==============================] - 0s 2ms/step - loss: 0.4160 - accuracy: 0.8066\n",
      "Epoch 53/200\n",
      "177/177 [==============================] - 0s 2ms/step - loss: 0.4112 - accuracy: 0.8041\n",
      "Epoch 54/200\n",
      "177/177 [==============================] - 0s 3ms/step - loss: 0.4134 - accuracy: 0.8030\n",
      "Epoch 55/200\n",
      "177/177 [==============================] - 0s 2ms/step - loss: 0.4136 - accuracy: 0.8051\n",
      "Epoch 56/200\n",
      "177/177 [==============================] - 0s 2ms/step - loss: 0.4144 - accuracy: 0.8023\n",
      "Epoch 57/200\n",
      "177/177 [==============================] - 0s 2ms/step - loss: 0.4154 - accuracy: 0.8066\n",
      "Epoch 58/200\n",
      "177/177 [==============================] - 0s 2ms/step - loss: 0.4136 - accuracy: 0.8018\n",
      "Epoch 59/200\n",
      "177/177 [==============================] - 0s 2ms/step - loss: 0.4135 - accuracy: 0.8028\n",
      "Epoch 60/200\n",
      "177/177 [==============================] - 0s 2ms/step - loss: 0.4156 - accuracy: 0.8044\n",
      "Epoch 61/200\n",
      "177/177 [==============================] - 0s 2ms/step - loss: 0.4133 - accuracy: 0.8041\n",
      "Epoch 62/200\n",
      "177/177 [==============================] - 0s 2ms/step - loss: 0.4131 - accuracy: 0.8083\n",
      "Epoch 63/200\n",
      "177/177 [==============================] - 0s 2ms/step - loss: 0.4137 - accuracy: 0.8034\n",
      "Epoch 64/200\n",
      "177/177 [==============================] - 0s 2ms/step - loss: 0.4131 - accuracy: 0.8062\n",
      "Epoch 65/200\n",
      "177/177 [==============================] - 0s 2ms/step - loss: 0.4125 - accuracy: 0.8091\n",
      "Epoch 66/200\n",
      "177/177 [==============================] - 0s 2ms/step - loss: 0.4147 - accuracy: 0.8071\n",
      "Epoch 67/200\n",
      "177/177 [==============================] - 0s 2ms/step - loss: 0.4153 - accuracy: 0.8014\n",
      "Epoch 68/200\n",
      "177/177 [==============================] - 0s 2ms/step - loss: 0.4135 - accuracy: 0.8057\n",
      "Epoch 69/200\n",
      "177/177 [==============================] - 0s 2ms/step - loss: 0.4132 - accuracy: 0.8073\n",
      "Epoch 70/200\n",
      "177/177 [==============================] - 0s 2ms/step - loss: 0.4120 - accuracy: 0.8080\n",
      "Epoch 71/200\n",
      "177/177 [==============================] - 0s 2ms/step - loss: 0.4128 - accuracy: 0.8075\n",
      "Epoch 72/200\n",
      "177/177 [==============================] - 0s 2ms/step - loss: 0.4155 - accuracy: 0.8092\n",
      "Epoch 73/200\n",
      "177/177 [==============================] - 0s 2ms/step - loss: 0.4130 - accuracy: 0.8051\n",
      "Epoch 74/200\n",
      "177/177 [==============================] - 0s 2ms/step - loss: 0.4151 - accuracy: 0.8046\n",
      "Epoch 75/200\n",
      "177/177 [==============================] - 0s 3ms/step - loss: 0.4117 - accuracy: 0.8043\n",
      "Epoch 76/200\n",
      "177/177 [==============================] - 0s 2ms/step - loss: 0.4136 - accuracy: 0.8078\n",
      "Epoch 77/200\n",
      "177/177 [==============================] - 0s 2ms/step - loss: 0.4162 - accuracy: 0.8060\n",
      "Epoch 78/200\n",
      "177/177 [==============================] - 0s 2ms/step - loss: 0.4127 - accuracy: 0.8050\n",
      "Epoch 79/200\n",
      "177/177 [==============================] - 0s 3ms/step - loss: 0.4123 - accuracy: 0.8055\n",
      "Epoch 80/200\n",
      "177/177 [==============================] - 0s 2ms/step - loss: 0.4114 - accuracy: 0.8071\n",
      "Epoch 81/200\n",
      "177/177 [==============================] - 0s 2ms/step - loss: 0.4138 - accuracy: 0.8076\n",
      "Epoch 82/200\n",
      "177/177 [==============================] - 0s 2ms/step - loss: 0.4134 - accuracy: 0.8064\n",
      "Epoch 83/200\n",
      "177/177 [==============================] - 0s 2ms/step - loss: 0.4131 - accuracy: 0.8043\n",
      "Epoch 84/200\n",
      "177/177 [==============================] - 0s 2ms/step - loss: 0.4130 - accuracy: 0.8085\n",
      "Epoch 85/200\n",
      "177/177 [==============================] - 0s 2ms/step - loss: 0.4159 - accuracy: 0.8053\n",
      "Epoch 86/200\n",
      "177/177 [==============================] - 0s 2ms/step - loss: 0.4113 - accuracy: 0.8067\n",
      "Epoch 87/200\n",
      "177/177 [==============================] - 0s 2ms/step - loss: 0.4138 - accuracy: 0.8062\n",
      "Epoch 88/200\n",
      "177/177 [==============================] - 0s 2ms/step - loss: 0.4139 - accuracy: 0.8069\n",
      "Epoch 89/200\n",
      "177/177 [==============================] - 0s 2ms/step - loss: 0.4132 - accuracy: 0.8028\n",
      "Epoch 90/200\n",
      "177/177 [==============================] - 0s 2ms/step - loss: 0.4110 - accuracy: 0.8075\n",
      "Epoch 91/200\n",
      "177/177 [==============================] - 0s 2ms/step - loss: 0.4155 - accuracy: 0.8067\n",
      "Epoch 92/200\n",
      "177/177 [==============================] - 0s 2ms/step - loss: 0.4133 - accuracy: 0.8060\n",
      "Epoch 93/200\n",
      "177/177 [==============================] - 0s 2ms/step - loss: 0.4130 - accuracy: 0.8073\n",
      "Epoch 94/200\n",
      "177/177 [==============================] - 0s 2ms/step - loss: 0.4107 - accuracy: 0.8067\n",
      "Epoch 95/200\n",
      "177/177 [==============================] - 0s 2ms/step - loss: 0.4125 - accuracy: 0.8050\n",
      "Epoch 96/200\n",
      "177/177 [==============================] - 0s 2ms/step - loss: 0.4126 - accuracy: 0.8051\n",
      "Epoch 97/200\n",
      "177/177 [==============================] - 0s 2ms/step - loss: 0.4117 - accuracy: 0.8055\n",
      "Epoch 98/200\n",
      "177/177 [==============================] - 0s 2ms/step - loss: 0.4135 - accuracy: 0.8069\n",
      "Epoch 99/200\n",
      "177/177 [==============================] - 0s 2ms/step - loss: 0.4127 - accuracy: 0.8080\n",
      "Epoch 100/200\n",
      "177/177 [==============================] - 0s 2ms/step - loss: 0.4101 - accuracy: 0.8048\n",
      "Epoch 101/200\n",
      "177/177 [==============================] - 0s 2ms/step - loss: 0.4126 - accuracy: 0.8085\n",
      "Epoch 102/200\n",
      "177/177 [==============================] - 0s 2ms/step - loss: 0.4111 - accuracy: 0.8071\n",
      "Epoch 103/200\n",
      "177/177 [==============================] - 0s 2ms/step - loss: 0.4094 - accuracy: 0.8059\n",
      "Epoch 104/200\n",
      "177/177 [==============================] - 0s 2ms/step - loss: 0.4143 - accuracy: 0.8043\n",
      "Epoch 105/200\n",
      "177/177 [==============================] - 0s 2ms/step - loss: 0.4124 - accuracy: 0.8057\n",
      "Epoch 106/200\n",
      "177/177 [==============================] - 0s 2ms/step - loss: 0.4133 - accuracy: 0.8064\n",
      "Epoch 107/200\n",
      "177/177 [==============================] - 0s 2ms/step - loss: 0.4123 - accuracy: 0.8064\n",
      "Epoch 108/200\n",
      "177/177 [==============================] - 0s 2ms/step - loss: 0.4116 - accuracy: 0.8073\n",
      "Epoch 109/200\n",
      "177/177 [==============================] - 0s 2ms/step - loss: 0.4138 - accuracy: 0.8051\n",
      "Epoch 110/200\n",
      "177/177 [==============================] - 0s 2ms/step - loss: 0.4140 - accuracy: 0.8037\n",
      "Epoch 111/200\n",
      "177/177 [==============================] - 0s 2ms/step - loss: 0.4120 - accuracy: 0.8066\n",
      "Epoch 112/200\n",
      "177/177 [==============================] - 0s 2ms/step - loss: 0.4106 - accuracy: 0.8055\n",
      "Epoch 113/200\n",
      "177/177 [==============================] - 0s 2ms/step - loss: 0.4127 - accuracy: 0.8030\n",
      "Epoch 114/200\n",
      "177/177 [==============================] - 0s 2ms/step - loss: 0.4119 - accuracy: 0.8078\n",
      "Epoch 115/200\n",
      "177/177 [==============================] - 0s 2ms/step - loss: 0.4131 - accuracy: 0.8039\n",
      "Epoch 116/200\n",
      "177/177 [==============================] - 0s 2ms/step - loss: 0.4176 - accuracy: 0.8002\n",
      "Epoch 117/200\n",
      "177/177 [==============================] - 0s 2ms/step - loss: 0.4158 - accuracy: 0.8028\n",
      "Epoch 118/200\n",
      "177/177 [==============================] - 0s 2ms/step - loss: 0.4140 - accuracy: 0.8023\n",
      "Epoch 119/200\n",
      "177/177 [==============================] - 0s 2ms/step - loss: 0.4131 - accuracy: 0.8053\n",
      "Epoch 120/200\n",
      "177/177 [==============================] - 0s 2ms/step - loss: 0.4112 - accuracy: 0.8067\n",
      "Epoch 121/200\n",
      "177/177 [==============================] - 0s 2ms/step - loss: 0.4122 - accuracy: 0.8069\n",
      "Epoch 122/200\n",
      "177/177 [==============================] - 0s 2ms/step - loss: 0.4111 - accuracy: 0.8106\n",
      "Epoch 123/200\n",
      "177/177 [==============================] - 0s 3ms/step - loss: 0.4117 - accuracy: 0.8062\n",
      "Epoch 124/200\n",
      "177/177 [==============================] - 0s 2ms/step - loss: 0.4134 - accuracy: 0.8046\n",
      "Epoch 125/200\n",
      "177/177 [==============================] - 0s 2ms/step - loss: 0.4121 - accuracy: 0.8046\n",
      "Epoch 126/200\n",
      "177/177 [==============================] - 0s 2ms/step - loss: 0.4105 - accuracy: 0.8082\n",
      "Epoch 127/200\n",
      "177/177 [==============================] - 0s 2ms/step - loss: 0.4102 - accuracy: 0.8076\n",
      "Epoch 128/200\n",
      "177/177 [==============================] - 0s 2ms/step - loss: 0.4128 - accuracy: 0.8091\n",
      "Epoch 129/200\n",
      "177/177 [==============================] - 0s 2ms/step - loss: 0.4096 - accuracy: 0.8089\n",
      "Epoch 130/200\n",
      "177/177 [==============================] - 0s 2ms/step - loss: 0.4118 - accuracy: 0.8099\n",
      "Epoch 131/200\n",
      "177/177 [==============================] - 0s 2ms/step - loss: 0.4131 - accuracy: 0.8080\n",
      "Epoch 132/200\n",
      "177/177 [==============================] - 0s 2ms/step - loss: 0.4135 - accuracy: 0.8043\n",
      "Epoch 133/200\n",
      "177/177 [==============================] - 0s 3ms/step - loss: 0.4113 - accuracy: 0.8055\n",
      "Epoch 134/200\n",
      "177/177 [==============================] - 0s 2ms/step - loss: 0.4115 - accuracy: 0.8041\n",
      "Epoch 135/200\n",
      "177/177 [==============================] - 0s 2ms/step - loss: 0.4140 - accuracy: 0.8055\n",
      "Epoch 136/200\n",
      "177/177 [==============================] - 0s 3ms/step - loss: 0.4133 - accuracy: 0.8083\n",
      "Epoch 137/200\n",
      "177/177 [==============================] - 0s 2ms/step - loss: 0.4126 - accuracy: 0.8046\n",
      "Epoch 138/200\n",
      "177/177 [==============================] - 0s 2ms/step - loss: 0.4096 - accuracy: 0.8069\n",
      "Epoch 139/200\n",
      "177/177 [==============================] - 0s 2ms/step - loss: 0.4111 - accuracy: 0.8073\n",
      "Epoch 140/200\n",
      "177/177 [==============================] - 0s 2ms/step - loss: 0.4139 - accuracy: 0.8073\n",
      "Epoch 141/200\n",
      "177/177 [==============================] - 0s 2ms/step - loss: 0.4104 - accuracy: 0.8057\n",
      "Epoch 142/200\n",
      "177/177 [==============================] - 0s 2ms/step - loss: 0.4108 - accuracy: 0.8053\n",
      "Epoch 143/200\n",
      "177/177 [==============================] - 0s 2ms/step - loss: 0.4119 - accuracy: 0.8071\n",
      "Epoch 144/200\n",
      "177/177 [==============================] - 0s 3ms/step - loss: 0.4113 - accuracy: 0.8043\n",
      "Epoch 145/200\n",
      "177/177 [==============================] - 0s 2ms/step - loss: 0.4129 - accuracy: 0.8055\n",
      "Epoch 146/200\n",
      "177/177 [==============================] - 0s 2ms/step - loss: 0.4126 - accuracy: 0.8046\n",
      "Epoch 147/200\n",
      "177/177 [==============================] - 0s 2ms/step - loss: 0.4113 - accuracy: 0.8075\n",
      "Epoch 148/200\n",
      "177/177 [==============================] - 0s 2ms/step - loss: 0.4098 - accuracy: 0.8060\n",
      "Epoch 149/200\n",
      "177/177 [==============================] - 0s 2ms/step - loss: 0.4105 - accuracy: 0.8053\n",
      "Epoch 150/200\n",
      "177/177 [==============================] - 0s 2ms/step - loss: 0.4118 - accuracy: 0.8051\n",
      "Epoch 151/200\n",
      "177/177 [==============================] - 0s 3ms/step - loss: 0.4125 - accuracy: 0.8082\n",
      "Epoch 152/200\n",
      "177/177 [==============================] - 0s 2ms/step - loss: 0.4103 - accuracy: 0.8062\n",
      "Epoch 153/200\n",
      "177/177 [==============================] - 0s 2ms/step - loss: 0.4102 - accuracy: 0.8067\n",
      "Epoch 154/200\n",
      "177/177 [==============================] - 0s 2ms/step - loss: 0.4092 - accuracy: 0.8073\n",
      "Epoch 155/200\n",
      "177/177 [==============================] - 0s 2ms/step - loss: 0.4115 - accuracy: 0.8034\n",
      "Epoch 156/200\n",
      "177/177 [==============================] - 0s 2ms/step - loss: 0.4120 - accuracy: 0.8069\n",
      "Epoch 157/200\n",
      "177/177 [==============================] - 0s 2ms/step - loss: 0.4115 - accuracy: 0.8048\n",
      "Epoch 158/200\n",
      "177/177 [==============================] - 0s 2ms/step - loss: 0.4117 - accuracy: 0.8083\n",
      "Epoch 159/200\n",
      "177/177 [==============================] - 0s 2ms/step - loss: 0.4100 - accuracy: 0.8048\n",
      "Epoch 160/200\n",
      "177/177 [==============================] - 0s 2ms/step - loss: 0.4140 - accuracy: 0.8043\n",
      "Epoch 161/200\n",
      "177/177 [==============================] - 0s 2ms/step - loss: 0.4124 - accuracy: 0.8071\n",
      "Epoch 162/200\n",
      "177/177 [==============================] - 0s 2ms/step - loss: 0.4126 - accuracy: 0.8094\n",
      "Epoch 163/200\n",
      "177/177 [==============================] - 0s 2ms/step - loss: 0.4099 - accuracy: 0.8092\n",
      "Epoch 164/200\n",
      "177/177 [==============================] - 0s 2ms/step - loss: 0.4117 - accuracy: 0.8039\n",
      "Epoch 165/200\n",
      "177/177 [==============================] - 0s 2ms/step - loss: 0.4114 - accuracy: 0.8064\n",
      "Epoch 166/200\n",
      "177/177 [==============================] - 0s 2ms/step - loss: 0.4106 - accuracy: 0.8066\n",
      "Epoch 167/200\n",
      "177/177 [==============================] - 0s 2ms/step - loss: 0.4104 - accuracy: 0.8064\n",
      "Epoch 168/200\n",
      "177/177 [==============================] - 0s 2ms/step - loss: 0.4094 - accuracy: 0.8082\n",
      "Epoch 169/200\n",
      "177/177 [==============================] - 0s 2ms/step - loss: 0.4108 - accuracy: 0.8050\n",
      "Epoch 170/200\n",
      "177/177 [==============================] - 0s 2ms/step - loss: 0.4099 - accuracy: 0.8076\n",
      "Epoch 171/200\n",
      "177/177 [==============================] - 0s 2ms/step - loss: 0.4104 - accuracy: 0.8044\n",
      "Epoch 172/200\n",
      "177/177 [==============================] - 0s 2ms/step - loss: 0.4079 - accuracy: 0.8066\n",
      "Epoch 173/200\n",
      "177/177 [==============================] - 0s 2ms/step - loss: 0.4102 - accuracy: 0.8062\n",
      "Epoch 174/200\n",
      "177/177 [==============================] - 0s 2ms/step - loss: 0.4105 - accuracy: 0.8094\n",
      "Epoch 175/200\n",
      "177/177 [==============================] - 0s 2ms/step - loss: 0.4078 - accuracy: 0.8078\n",
      "Epoch 176/200\n",
      "177/177 [==============================] - 0s 2ms/step - loss: 0.4091 - accuracy: 0.8050\n",
      "Epoch 177/200\n",
      "177/177 [==============================] - 0s 2ms/step - loss: 0.4104 - accuracy: 0.8057\n",
      "Epoch 178/200\n",
      "177/177 [==============================] - 0s 2ms/step - loss: 0.4101 - accuracy: 0.8067\n",
      "Epoch 179/200\n",
      "177/177 [==============================] - 0s 2ms/step - loss: 0.4128 - accuracy: 0.8011\n",
      "Epoch 180/200\n",
      "177/177 [==============================] - 0s 2ms/step - loss: 0.4105 - accuracy: 0.8060\n",
      "Epoch 181/200\n",
      "177/177 [==============================] - 0s 2ms/step - loss: 0.4108 - accuracy: 0.8073\n",
      "Epoch 182/200\n",
      "177/177 [==============================] - 0s 2ms/step - loss: 0.4111 - accuracy: 0.8027\n",
      "Epoch 183/200\n",
      "177/177 [==============================] - 0s 2ms/step - loss: 0.4088 - accuracy: 0.8103\n",
      "Epoch 184/200\n",
      "177/177 [==============================] - 0s 2ms/step - loss: 0.4102 - accuracy: 0.8108\n",
      "Epoch 185/200\n",
      "177/177 [==============================] - 0s 2ms/step - loss: 0.4084 - accuracy: 0.8094\n",
      "Epoch 186/200\n",
      "177/177 [==============================] - 0s 2ms/step - loss: 0.4119 - accuracy: 0.8034\n",
      "Epoch 187/200\n",
      "177/177 [==============================] - 0s 2ms/step - loss: 0.4108 - accuracy: 0.8076\n",
      "Epoch 188/200\n",
      "177/177 [==============================] - 0s 2ms/step - loss: 0.4170 - accuracy: 0.8060\n",
      "Epoch 189/200\n",
      "177/177 [==============================] - 0s 2ms/step - loss: 0.4127 - accuracy: 0.8007\n",
      "Epoch 190/200\n",
      "177/177 [==============================] - 0s 2ms/step - loss: 0.4104 - accuracy: 0.8044\n",
      "Epoch 191/200\n",
      "177/177 [==============================] - 0s 2ms/step - loss: 0.4111 - accuracy: 0.8050\n",
      "Epoch 192/200\n",
      "177/177 [==============================] - 0s 2ms/step - loss: 0.4120 - accuracy: 0.8091\n",
      "Epoch 193/200\n",
      "177/177 [==============================] - 0s 2ms/step - loss: 0.4097 - accuracy: 0.8083\n",
      "Epoch 194/200\n",
      "177/177 [==============================] - 0s 2ms/step - loss: 0.4111 - accuracy: 0.8066\n",
      "Epoch 195/200\n",
      "177/177 [==============================] - 0s 2ms/step - loss: 0.4097 - accuracy: 0.8066\n",
      "Epoch 196/200\n",
      "177/177 [==============================] - 0s 2ms/step - loss: 0.4115 - accuracy: 0.8046\n",
      "Epoch 197/200\n",
      "177/177 [==============================] - 0s 2ms/step - loss: 0.4087 - accuracy: 0.8098\n",
      "Epoch 198/200\n",
      "177/177 [==============================] - 0s 2ms/step - loss: 0.4060 - accuracy: 0.8117\n",
      "Epoch 199/200\n",
      "177/177 [==============================] - 0s 2ms/step - loss: 0.4107 - accuracy: 0.8057\n",
      "Epoch 200/200\n",
      "177/177 [==============================] - 0s 2ms/step - loss: 0.4088 - accuracy: 0.8055\n"
     ]
    }
   ],
   "source": [
    "history = model.fit(X_train, y_train, epochs=200, batch_size=32)"
   ]
  },
  {
   "cell_type": "code",
   "execution_count": 18,
   "metadata": {},
   "outputs": [],
   "source": [
    "import matplotlib.pyplot as plt"
   ]
  },
  {
   "cell_type": "code",
   "execution_count": 20,
   "metadata": {},
   "outputs": [],
   "source": [
    "train_acc = history.history['accuracy']\n",
    "epochs = range(1, len(train_acc) + 1)"
   ]
  },
  {
   "cell_type": "code",
   "execution_count": 22,
   "metadata": {},
   "outputs": [
    {
     "data": {
      "image/png": "[encoded data removed]",
      "text/plain": [
       "<Figure size 640x480 with 1 Axes>"
      ]
     },
     "metadata": {},
     "output_type": "display_data"
    }
   ],
   "source": [
    "plt.plot(epochs, train_acc, 'bo', label='Training accuracy')\n",
    "plt.title('Training accuracy')\n",
    "plt.xlabel('Epochs')\n",
    "plt.ylabel('Accuracy')\n",
    "plt.legend()\n",
    "plt.show()"
   ]
  },
  {
   "cell_type": "code",
   "execution_count": 23,
   "metadata": {},
   "outputs": [
    {
     "name": "stdout",
     "output_type": "stream",
     "text": [
      "45/45 [==============================] - 0s 1ms/step\n"
     ]
    }
   ],
   "source": [
    "y_hat = model.predict(X_test)\n",
    "y_hat = [0 if val < 0.5 else 1 for val in y_hat]"
   ]
  },
  {
   "cell_type": "code",
   "execution_count": 24,
   "metadata": {},
   "outputs": [
    {
     "data": {
      "text/plain": [
       "0.7750177430801988"
      ]
     },
     "execution_count": 24,
     "metadata": {},
     "output_type": "execute_result"
    }
   ],
   "source": [
    "accuracy_score(y_test, y_hat)"
   ]
  },
  {
   "cell_type": "markdown",
   "metadata": {},
   "source": [
    "# 4. Saving and Reloading"
   ]
  },
  {
   "cell_type": "code",
   "execution_count": 25,
   "metadata": {
    "collapsed": true
   },
   "outputs": [
    {
     "name": "stdout",
     "output_type": "stream",
     "text": [
      "INFO:tensorflow:Assets written to: tfmodel\\assets\n"
     ]
    },
    {
     "name": "stderr",
     "output_type": "stream",
     "text": [
      "INFO:tensorflow:Assets written to: tfmodel\\assets\n"
     ]
    }
   ],
   "source": [
    "model.save('tfmodel')"
   ]
  },
  {
   "cell_type": "code",
   "execution_count": 26,
   "metadata": {},
   "outputs": [],
   "source": [
    "del model "
   ]
  },
  {
   "cell_type": "code",
   "execution_count": 27,
   "metadata": {},
   "outputs": [],
   "source": [
    "model = load_model('tfmodel')"
   ]
  }
 ],
 "metadata": {
  "kernelspec": {
   "display_name": "Python 3",
   "language": "python",
   "name": "python3"
  },
  "language_info": {
   "codemirror_mode": {
    "name": "ipython",
    "version": 3
   },
   "file_extension": ".py",
   "mimetype": "text/x-python",
   "name": "python",
   "nbconvert_exporter": "python",
   "pygments_lexer": "ipython3",
   "version": "3.9.13"
  }
 },
 "nbformat": 4,
 "nbformat_minor": 2
}
